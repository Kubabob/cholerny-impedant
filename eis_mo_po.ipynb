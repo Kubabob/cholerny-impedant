{
 "cells": [
  {
   "cell_type": "code",
   "execution_count": 8,
   "id": "f8492f08",
   "metadata": {},
   "outputs": [],
   "source": [
    "from impedance import preprocessing\n",
    "import pandas as pd\n",
    "import os\n",
    "\n",
    "\n",
    "data_path = os.path.join(\"wyniki\", \"eis_mo_po-flircie.txt\")\n",
    "\n",
    "data = pd.read_csv(data_path, sep=\"\\t\")\n",
    "\n",
    "\n",
    "frequencies, Z = data.iloc[:,0,], data.iloc[:,1] - 1j*data.iloc[:,2]\n",
    "# frequencies, Z = data.iloc[:,0], data.iloc[:,1] + 1j*data.iloc[:,2]\n",
    "\n",
    "# keep only the impedance data in the first quandrant\n",
    "# frequencies, Z = preprocessing.ignoreBelowX(frequencies, Z)"
   ]
  },
  {
   "cell_type": "code",
   "execution_count": 9,
   "id": "0b54048f",
   "metadata": {},
   "outputs": [
    {
     "data": {
      "application/vnd.microsoft.datawrangler.viewer.v0+json": {
       "columns": [
        {
         "name": "index",
         "rawType": "int64",
         "type": "integer"
        },
        {
         "name": "freq/Hz",
         "rawType": "float64",
         "type": "float"
        }
       ],
       "ref": "eb06c7c8-89ef-4a8f-baac-af5e06eba076",
       "rows": [
        [
         "0",
         "200000.0"
        ],
        [
         "1",
         "137000.0"
        ],
        [
         "2",
         "93200.0"
        ],
        [
         "3",
         "63600.0"
        ],
        [
         "4",
         "43400.0"
        ],
        [
         "5",
         "29600.0"
        ],
        [
         "6",
         "20200.0"
        ],
        [
         "7",
         "13800.0"
        ],
        [
         "8",
         "9430.0"
        ],
        [
         "9",
         "6440.0"
        ],
        [
         "10",
         "4390.0"
        ],
        [
         "11",
         "3000.0"
        ],
        [
         "12",
         "2050.0"
        ],
        [
         "13",
         "1400.0"
        ],
        [
         "14",
         "954.0"
        ],
        [
         "15",
         "651.0"
        ],
        [
         "16",
         "445.0"
        ],
        [
         "17",
         "304.0"
        ],
        [
         "18",
         "207.0"
        ],
        [
         "19",
         "141.0"
        ],
        [
         "20",
         "96.5"
        ],
        [
         "21",
         "65.9"
        ],
        [
         "22",
         "45.0"
        ],
        [
         "23",
         "30.7"
        ],
        [
         "24",
         "21.0"
        ],
        [
         "25",
         "4.55"
        ],
        [
         "26",
         "3.11"
        ]
       ],
       "shape": {
        "columns": 1,
        "rows": 27
       }
      },
      "text/plain": [
       "0     200000.00\n",
       "1     137000.00\n",
       "2      93200.00\n",
       "3      63600.00\n",
       "4      43400.00\n",
       "5      29600.00\n",
       "6      20200.00\n",
       "7      13800.00\n",
       "8       9430.00\n",
       "9       6440.00\n",
       "10      4390.00\n",
       "11      3000.00\n",
       "12      2050.00\n",
       "13      1400.00\n",
       "14       954.00\n",
       "15       651.00\n",
       "16       445.00\n",
       "17       304.00\n",
       "18       207.00\n",
       "19       141.00\n",
       "20        96.50\n",
       "21        65.90\n",
       "22        45.00\n",
       "23        30.70\n",
       "24        21.00\n",
       "25         4.55\n",
       "26         3.11\n",
       "Name: freq/Hz, dtype: float64"
      ]
     },
     "execution_count": 9,
     "metadata": {},
     "output_type": "execute_result"
    }
   ],
   "source": [
    "frequencies"
   ]
  },
  {
   "cell_type": "code",
   "execution_count": 10,
   "id": "5897acff",
   "metadata": {},
   "outputs": [
    {
     "data": {
      "application/vnd.microsoft.datawrangler.viewer.v0+json": {
       "columns": [
        {
         "name": "index",
         "rawType": "int64",
         "type": "integer"
        },
        {
         "name": "0",
         "rawType": "complex128",
         "type": "unknown"
        }
       ],
       "ref": "13cba754-8d40-4445-88d2-351d254aea36",
       "rows": [
        [
         "0",
         "(0.192-0.0195j)"
        ],
        [
         "1",
         "(0.198-0.0193j)"
        ],
        [
         "2",
         "(0.187-0.0122j)"
        ],
        [
         "3",
         "(0.179+0.0148j)"
        ],
        [
         "4",
         "(0.195+0.0372j)"
        ],
        [
         "5",
         "(0.16+0.00971j)"
        ],
        [
         "6",
         "(0.196+0.00424j)"
        ],
        [
         "7",
         "(0.212-0.00664j)"
        ],
        [
         "8",
         "(0.15-0.01j)"
        ],
        [
         "9",
         "(0.188-0.0201j)"
        ],
        [
         "10",
         "(0.264+0.00357j)"
        ],
        [
         "11",
         "(0.192-0.0173j)"
        ],
        [
         "12",
         "(0.219-0.0206j)"
        ],
        [
         "13",
         "(0.235-0.0827j)"
        ],
        [
         "14",
         "(0.199-0.0508j)"
        ],
        [
         "15",
         "(0.213-0.126j)"
        ],
        [
         "16",
         "(0.272-0.127j)"
        ],
        [
         "17",
         "(0.306-0.238j)"
        ],
        [
         "18",
         "(0.291-0.354j)"
        ],
        [
         "19",
         "(0.387-0.36j)"
        ],
        [
         "20",
         "(0.476-0.494j)"
        ],
        [
         "21",
         "(0.613-0.619j)"
        ],
        [
         "22",
         "(0.916-0.762j)"
        ],
        [
         "23",
         "(1.1-0.808j)"
        ],
        [
         "24",
         "(1.37-0.702j)"
        ],
        [
         "25",
         "(1.72-0.473j)"
        ],
        [
         "26",
         "(2.19-0.192j)"
        ]
       ],
       "shape": {
        "columns": 1,
        "rows": 27
       }
      },
      "text/plain": [
       "0     0.19200-0.01950j\n",
       "1     0.19800-0.01930j\n",
       "2     0.18700-0.01220j\n",
       "3     0.17900+0.01480j\n",
       "4     0.19500+0.03720j\n",
       "5     0.16000+0.00971j\n",
       "6     0.19600+0.00424j\n",
       "7     0.21200-0.00664j\n",
       "8     0.15000-0.01000j\n",
       "9     0.18800-0.02010j\n",
       "10    0.26400+0.00357j\n",
       "11    0.19200-0.01730j\n",
       "12    0.21900-0.02060j\n",
       "13    0.23500-0.08270j\n",
       "14    0.19900-0.05080j\n",
       "15    0.21300-0.12600j\n",
       "16    0.27200-0.12700j\n",
       "17    0.30600-0.23800j\n",
       "18    0.29100-0.35400j\n",
       "19    0.38700-0.36000j\n",
       "20    0.47600-0.49400j\n",
       "21    0.61300-0.61900j\n",
       "22    0.91600-0.76200j\n",
       "23    1.10000-0.80800j\n",
       "24    1.37000-0.70200j\n",
       "25    1.72000-0.47300j\n",
       "26    2.19000-0.19200j\n",
       "dtype: complex128"
      ]
     },
     "execution_count": 10,
     "metadata": {},
     "output_type": "execute_result"
    }
   ],
   "source": [
    "Z"
   ]
  },
  {
   "cell_type": "code",
   "execution_count": 11,
   "id": "f1b3342b",
   "metadata": {},
   "outputs": [],
   "source": [
    "from impedance.models.circuits import CustomCircuit\n",
    "\n",
    "circuit = 'R0-p(CPE1,R1)'\n",
    "initial_guess = [100, 1, 1, 100]\n",
    "\n",
    "circuit_model = CustomCircuit(circuit, initial_guess=initial_guess)"
   ]
  },
  {
   "cell_type": "code",
   "execution_count": 12,
   "id": "b5ed9595",
   "metadata": {},
   "outputs": [
    {
     "ename": "ValueError",
     "evalue": "max() iterable argument is empty",
     "output_type": "error",
     "traceback": [
      "\u001b[31m---------------------------------------------------------------------------\u001b[39m",
      "\u001b[31mValueError\u001b[39m                                Traceback (most recent call last)",
      "\u001b[36mCell\u001b[39m\u001b[36m \u001b[39m\u001b[32mIn[12]\u001b[39m\u001b[32m, line 1\u001b[39m\n\u001b[32m----> \u001b[39m\u001b[32m1\u001b[39m \u001b[43mcircuit_model\u001b[49m\u001b[43m.\u001b[49m\u001b[43mplot\u001b[49m\u001b[43m(\u001b[49m\u001b[43m)\u001b[49m\n",
      "\u001b[36mFile \u001b[39m\u001b[32m~/Coding/cholerny-impedant/.venv/lib64/python3.13/site-packages/impedance/models/circuits/circuits.py:295\u001b[39m, in \u001b[36mBaseCircuit.plot\u001b[39m\u001b[34m(self, ax, f_data, Z_data, kind, **kwargs)\u001b[39m\n\u001b[32m    292\u001b[39m             name = \u001b[33m'\u001b[39m\u001b[33mfit\u001b[39m\u001b[33m'\u001b[39m\n\u001b[32m    293\u001b[39m         plot_dict[name] = {\u001b[33m'\u001b[39m\u001b[33mf\u001b[39m\u001b[33m'\u001b[39m: f_pred, \u001b[33m'\u001b[39m\u001b[33mZ\u001b[39m\u001b[33m'\u001b[39m: Z_fit, \u001b[33m'\u001b[39m\u001b[33mfmt\u001b[39m\u001b[33m'\u001b[39m: \u001b[33m'\u001b[39m\u001b[33m-\u001b[39m\u001b[33m'\u001b[39m}\n\u001b[32m--> \u001b[39m\u001b[32m295\u001b[39m     chart = \u001b[43mplot_altair\u001b[49m\u001b[43m(\u001b[49m\u001b[43mplot_dict\u001b[49m\u001b[43m,\u001b[49m\u001b[43m \u001b[49m\u001b[43m*\u001b[49m\u001b[43m*\u001b[49m\u001b[43mkwargs\u001b[49m\u001b[43m)\u001b[49m\n\u001b[32m    296\u001b[39m     \u001b[38;5;28;01mreturn\u001b[39;00m chart\n\u001b[32m    297\u001b[39m \u001b[38;5;28;01melse\u001b[39;00m:\n",
      "\u001b[36mFile \u001b[39m\u001b[32m~/Coding/cholerny-impedant/.venv/lib64/python3.13/site-packages/impedance/visualization.py:173\u001b[39m, in \u001b[36mplot_altair\u001b[39m\u001b[34m(data_dict, size, background)\u001b[39m\n\u001b[32m    168\u001b[39m     df = pd.DataFrame({\u001b[33m'\u001b[39m\u001b[33mf\u001b[39m\u001b[33m'\u001b[39m: f, \u001b[33m'\u001b[39m\u001b[33mz_real\u001b[39m\u001b[33m'\u001b[39m: Z.real, \u001b[33m'\u001b[39m\u001b[33mz_imag\u001b[39m\u001b[33m'\u001b[39m: Z.imag,\n\u001b[32m    169\u001b[39m                        \u001b[33m'\u001b[39m\u001b[33mkind\u001b[39m\u001b[33m'\u001b[39m: kind, \u001b[33m'\u001b[39m\u001b[33mfmt\u001b[39m\u001b[33m'\u001b[39m: fmt})\n\u001b[32m    171\u001b[39m     Z_df = pd.concat([Z_df, df], ignore_index=\u001b[38;5;28;01mTrue\u001b[39;00m)\n\u001b[32m--> \u001b[39m\u001b[32m173\u001b[39m range_x = \u001b[38;5;28;43mmax\u001b[39;49m\u001b[43m(\u001b[49m\u001b[43mZ_df\u001b[49m\u001b[43m[\u001b[49m\u001b[33;43m'\u001b[39;49m\u001b[33;43mz_real\u001b[39;49m\u001b[33;43m'\u001b[39;49m\u001b[43m]\u001b[49m\u001b[43m)\u001b[49m - \u001b[38;5;28mmin\u001b[39m(Z_df[\u001b[33m'\u001b[39m\u001b[33mz_real\u001b[39m\u001b[33m'\u001b[39m])\n\u001b[32m    174\u001b[39m range_y = \u001b[38;5;28mmax\u001b[39m(-Z_df[\u001b[33m'\u001b[39m\u001b[33mz_imag\u001b[39m\u001b[33m'\u001b[39m]) - \u001b[38;5;28mmin\u001b[39m(-Z_df[\u001b[33m'\u001b[39m\u001b[33mz_imag\u001b[39m\u001b[33m'\u001b[39m])\n\u001b[32m    176\u001b[39m rng = \u001b[38;5;28mmax\u001b[39m(range_x, range_y)\n",
      "\u001b[31mValueError\u001b[39m: max() iterable argument is empty"
     ]
    }
   ],
   "source": [
    "circuit_model.plot()"
   ]
  },
  {
   "cell_type": "code",
   "execution_count": 13,
   "id": "c6445ecf",
   "metadata": {},
   "outputs": [
    {
     "data": {
      "text/plain": [
       "<impedance.models.circuits.circuits.CustomCircuit at 0x7f0e87096fd0>"
      ]
     },
     "execution_count": 13,
     "metadata": {},
     "output_type": "execute_result"
    }
   ],
   "source": [
    "circuit_model.fit(frequencies, Z)"
   ]
  },
  {
   "cell_type": "code",
   "execution_count": 14,
   "id": "418c7b5e",
   "metadata": {},
   "outputs": [
    {
     "data": {
      "text/plain": [
       "array([0.19144793, 0.00628962, 0.85332509, 1.92402936])"
      ]
     },
     "execution_count": 14,
     "metadata": {},
     "output_type": "execute_result"
    }
   ],
   "source": [
    "circuit_model.parameters_"
   ]
  },
  {
   "cell_type": "code",
   "execution_count": 15,
   "id": "69e15a1e",
   "metadata": {},
   "outputs": [],
   "source": [
    "Z_fit = circuit_model.predict(frequencies)"
   ]
  },
  {
   "cell_type": "code",
   "execution_count": 16,
   "id": "85f0dc58",
   "metadata": {},
   "outputs": [
    {
     "data": {
      "text/plain": [
       "array([0.19167506-0.00096613j, 0.19176184-0.00133415j,\n",
       "       0.19188449-0.00185317j, 0.1920537 -0.00256718j,\n",
       "       0.19228899-0.0035561j , 0.19261712-0.00492774j,\n",
       "       0.19307418-0.0068241j , 0.19371113-0.00943983j,\n",
       "       0.19460318-0.01305217j, 0.19586109-0.01804948j,\n",
       "       0.19765322-0.0249862j , 0.20019628-0.03449105j,\n",
       "       0.20386067-0.04756451j, 0.20921392-0.06552756j,\n",
       "       0.21719136-0.09023926j, 0.22915944-0.12371143j,\n",
       "       0.24735799-0.16851245j, 0.27557121-0.22788733j,\n",
       "       0.3200688 -0.30523974j, 0.38946621-0.40100648j,\n",
       "       0.49385529-0.51008547j, 0.64615412-0.62230413j,\n",
       "       0.85015784-0.71477226j, 1.0941161 -0.76068952j,\n",
       "       1.34498836-0.74373413j, 1.95858553-0.34720785j,\n",
       "       2.01287287-0.2620008j ])"
      ]
     },
     "execution_count": 16,
     "metadata": {},
     "output_type": "execute_result"
    }
   ],
   "source": [
    "Z_fit"
   ]
  },
  {
   "cell_type": "code",
   "execution_count": 17,
   "id": "2dd1e37d",
   "metadata": {},
   "outputs": [
    {
     "data": {
      "image/png": "[encoded data removed]",
      "text/plain": [
       "<Figure size 640x480 with 1 Axes>"
      ]
     },
     "metadata": {},
     "output_type": "display_data"
    }
   ],
   "source": [
    "import matplotlib.pyplot as plt\n",
    "from impedance.visualization import plot_nyquist\n",
    "\n",
    "fig, ax = plt.subplots()\n",
    "plot_nyquist(Z, fmt='o', scale=1, ax=ax)\n",
    "plot_nyquist(Z_fit, fmt='-', scale=1, ax=ax)\n",
    "\n",
    "plt.legend(['Data', 'Fit'])\n",
    "plt.show()"
   ]
  }
 ],
 "metadata": {
  "kernelspec": {
   "display_name": "cholerny-impedant",
   "language": "python",
   "name": "python3"
  },
  "language_info": {
   "codemirror_mode": {
    "name": "ipython",
    "version": 3
   },
   "file_extension": ".py",
   "mimetype": "text/x-python",
   "name": "python",
   "nbconvert_exporter": "python",
   "pygments_lexer": "ipython3",
   "version": "3.13.7"
  }
 },
 "nbformat": 4,
 "nbformat_minor": 5
}
