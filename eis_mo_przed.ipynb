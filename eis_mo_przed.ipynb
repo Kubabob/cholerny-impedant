{
 "cells": [
  {
   "cell_type": "code",
   "execution_count": 1,
   "id": "f8492f08",
   "metadata": {},
   "outputs": [],
   "source": [
    "from impedance import preprocessing\n",
    "import pandas as pd\n",
    "import os\n",
    "\n",
    "\n",
    "data_path = os.path.join(\"wyniki\", \"eis_mo_przed-filtrem.txt\")\n",
    "\n",
    "data = pd.read_csv(data_path, sep=\"\\t\")\n",
    "\n",
    "\n",
    "# frequencies, Z = data.iloc[:,0,], data.iloc[:,1] - 1j*data.iloc[:,2]\n",
    "frequencies, Z = data.iloc[:,0], data.iloc[:,1] + 1j*data.iloc[:,2]\n",
    "\n",
    "\n",
    "# # keep only the impedance data in the first quandrant\n",
    "frequencies, Z = preprocessing.ignoreBelowX(frequencies, Z)"
   ]
  },
  {
   "cell_type": "code",
   "execution_count": 2,
   "id": "0b54048f",
   "metadata": {},
   "outputs": [
    {
     "data": {
      "application/vnd.microsoft.datawrangler.viewer.v0+json": {
       "columns": [
        {
         "name": "index",
         "rawType": "int64",
         "type": "integer"
        },
        {
         "name": "freq/Hz",
         "rawType": "float64",
         "type": "float"
        }
       ],
       "ref": "1b56eed3-ced5-469e-975f-5167dfb1150f",
       "rows": [
        [
         "3",
         "63613.422"
        ],
        [
         "4",
         "43423.398"
        ],
        [
         "5",
         "29644.816"
        ],
        [
         "6",
         "20236.418"
        ],
        [
         "10",
         "4393.5923"
        ],
        [
         "30",
         "2.1206589"
        ],
        [
         "32",
         "0.98867714"
        ],
        [
         "35",
         "0.31452551"
        ],
        [
         "36",
         "0.2145052"
        ],
        [
         "37",
         "0.14640838"
        ]
       ],
       "shape": {
        "columns": 1,
        "rows": 10
       }
      },
      "text/plain": [
       "3     63613.422000\n",
       "4     43423.398000\n",
       "5     29644.816000\n",
       "6     20236.418000\n",
       "10     4393.592300\n",
       "30        2.120659\n",
       "32        0.988677\n",
       "35        0.314526\n",
       "36        0.214505\n",
       "37        0.146408\n",
       "Name: freq/Hz, dtype: float64"
      ]
     },
     "execution_count": 2,
     "metadata": {},
     "output_type": "execute_result"
    }
   ],
   "source": [
    "frequencies"
   ]
  },
  {
   "cell_type": "code",
   "execution_count": 3,
   "id": "5897acff",
   "metadata": {},
   "outputs": [
    {
     "data": {
      "application/vnd.microsoft.datawrangler.viewer.v0+json": {
       "columns": [
        {
         "name": "index",
         "rawType": "int64",
         "type": "integer"
        },
        {
         "name": "0",
         "rawType": "complex128",
         "type": "unknown"
        }
       ],
       "ref": "af907798-1e88-4645-8ab6-a38bc2657664",
       "rows": [
        [
         "3",
         "(0.17926469-0.014778716j)"
        ],
        [
         "4",
         "(0.19458744-0.037236478j)"
        ],
        [
         "5",
         "(0.1603975-0.0097087352j)"
        ],
        [
         "6",
         "(0.19635716-0.0042408956j)"
        ],
        [
         "10",
         "(0.26395801-0.003565615j)"
        ],
        [
         "30",
         "(2.4106553-0.62222219j)"
        ],
        [
         "32",
         "(3.1193936-1.742885j)"
        ],
        [
         "35",
         "(-1.0576264-2.2177024j)"
        ],
        [
         "36",
         "(2.3258107-6.0177069j)"
        ],
        [
         "37",
         "(7.4602027-2.4850144j)"
        ]
       ],
       "shape": {
        "columns": 1,
        "rows": 10
       }
      },
      "text/plain": [
       "3     0.179265-0.014779j\n",
       "4     0.194587-0.037236j\n",
       "5     0.160397-0.009709j\n",
       "6     0.196357-0.004241j\n",
       "10    0.263958-0.003566j\n",
       "30    2.410655-0.622222j\n",
       "32    3.119394-1.742885j\n",
       "35   -1.057626-2.217702j\n",
       "36    2.325811-6.017707j\n",
       "37    7.460203-2.485014j\n",
       "dtype: complex128"
      ]
     },
     "execution_count": 3,
     "metadata": {},
     "output_type": "execute_result"
    }
   ],
   "source": [
    "Z"
   ]
  },
  {
   "cell_type": "code",
   "execution_count": 4,
   "id": "f1b3342b",
   "metadata": {},
   "outputs": [],
   "source": [
    "from impedance.models.circuits import CustomCircuit\n",
    "\n",
    "circuit = 'R0-p(CPE1,R1)'\n",
    "initial_guess = [100, 1, 1, 100]\n",
    "\n",
    "circuit_model = CustomCircuit(circuit, initial_guess=initial_guess)"
   ]
  },
  {
   "cell_type": "code",
   "execution_count": 5,
   "id": "b57e4506",
   "metadata": {},
   "outputs": [
    {
     "data": {
      "text/plain": [
       "np.float64(7.4602027)"
      ]
     },
     "execution_count": 5,
     "metadata": {},
     "output_type": "execute_result"
    }
   ],
   "source": [
    "max(Z.values.real)"
   ]
  },
  {
   "cell_type": "code",
   "execution_count": 6,
   "id": "b5ed9595",
   "metadata": {},
   "outputs": [
    {
     "ename": "ValueError",
     "evalue": "max() iterable argument is empty",
     "output_type": "error",
     "traceback": [
      "\u001b[31m---------------------------------------------------------------------------\u001b[39m",
      "\u001b[31mValueError\u001b[39m                                Traceback (most recent call last)",
      "\u001b[36mCell\u001b[39m\u001b[36m \u001b[39m\u001b[32mIn[6]\u001b[39m\u001b[32m, line 1\u001b[39m\n\u001b[32m----> \u001b[39m\u001b[32m1\u001b[39m \u001b[43mcircuit_model\u001b[49m\u001b[43m.\u001b[49m\u001b[43mplot\u001b[49m\u001b[43m(\u001b[49m\u001b[43m)\u001b[49m\n",
      "\u001b[36mFile \u001b[39m\u001b[32m~/Coding/cholerny-impedant/.venv/lib64/python3.13/site-packages/impedance/models/circuits/circuits.py:295\u001b[39m, in \u001b[36mBaseCircuit.plot\u001b[39m\u001b[34m(self, ax, f_data, Z_data, kind, **kwargs)\u001b[39m\n\u001b[32m    292\u001b[39m             name = \u001b[33m'\u001b[39m\u001b[33mfit\u001b[39m\u001b[33m'\u001b[39m\n\u001b[32m    293\u001b[39m         plot_dict[name] = {\u001b[33m'\u001b[39m\u001b[33mf\u001b[39m\u001b[33m'\u001b[39m: f_pred, \u001b[33m'\u001b[39m\u001b[33mZ\u001b[39m\u001b[33m'\u001b[39m: Z_fit, \u001b[33m'\u001b[39m\u001b[33mfmt\u001b[39m\u001b[33m'\u001b[39m: \u001b[33m'\u001b[39m\u001b[33m-\u001b[39m\u001b[33m'\u001b[39m}\n\u001b[32m--> \u001b[39m\u001b[32m295\u001b[39m     chart = \u001b[43mplot_altair\u001b[49m\u001b[43m(\u001b[49m\u001b[43mplot_dict\u001b[49m\u001b[43m,\u001b[49m\u001b[43m \u001b[49m\u001b[43m*\u001b[49m\u001b[43m*\u001b[49m\u001b[43mkwargs\u001b[49m\u001b[43m)\u001b[49m\n\u001b[32m    296\u001b[39m     \u001b[38;5;28;01mreturn\u001b[39;00m chart\n\u001b[32m    297\u001b[39m \u001b[38;5;28;01melse\u001b[39;00m:\n",
      "\u001b[36mFile \u001b[39m\u001b[32m~/Coding/cholerny-impedant/.venv/lib64/python3.13/site-packages/impedance/visualization.py:173\u001b[39m, in \u001b[36mplot_altair\u001b[39m\u001b[34m(data_dict, size, background)\u001b[39m\n\u001b[32m    168\u001b[39m     df = pd.DataFrame({\u001b[33m'\u001b[39m\u001b[33mf\u001b[39m\u001b[33m'\u001b[39m: f, \u001b[33m'\u001b[39m\u001b[33mz_real\u001b[39m\u001b[33m'\u001b[39m: Z.real, \u001b[33m'\u001b[39m\u001b[33mz_imag\u001b[39m\u001b[33m'\u001b[39m: Z.imag,\n\u001b[32m    169\u001b[39m                        \u001b[33m'\u001b[39m\u001b[33mkind\u001b[39m\u001b[33m'\u001b[39m: kind, \u001b[33m'\u001b[39m\u001b[33mfmt\u001b[39m\u001b[33m'\u001b[39m: fmt})\n\u001b[32m    171\u001b[39m     Z_df = pd.concat([Z_df, df], ignore_index=\u001b[38;5;28;01mTrue\u001b[39;00m)\n\u001b[32m--> \u001b[39m\u001b[32m173\u001b[39m range_x = \u001b[38;5;28;43mmax\u001b[39;49m\u001b[43m(\u001b[49m\u001b[43mZ_df\u001b[49m\u001b[43m[\u001b[49m\u001b[33;43m'\u001b[39;49m\u001b[33;43mz_real\u001b[39;49m\u001b[33;43m'\u001b[39;49m\u001b[43m]\u001b[49m\u001b[43m)\u001b[49m - \u001b[38;5;28mmin\u001b[39m(Z_df[\u001b[33m'\u001b[39m\u001b[33mz_real\u001b[39m\u001b[33m'\u001b[39m])\n\u001b[32m    174\u001b[39m range_y = \u001b[38;5;28mmax\u001b[39m(-Z_df[\u001b[33m'\u001b[39m\u001b[33mz_imag\u001b[39m\u001b[33m'\u001b[39m]) - \u001b[38;5;28mmin\u001b[39m(-Z_df[\u001b[33m'\u001b[39m\u001b[33mz_imag\u001b[39m\u001b[33m'\u001b[39m])\n\u001b[32m    176\u001b[39m rng = \u001b[38;5;28mmax\u001b[39m(range_x, range_y)\n",
      "\u001b[31mValueError\u001b[39m: max() iterable argument is empty"
     ]
    }
   ],
   "source": [
    "circuit_model.plot()"
   ]
  },
  {
   "cell_type": "code",
   "execution_count": null,
   "id": "c6445ecf",
   "metadata": {},
   "outputs": [
    {
     "data": {
      "text/plain": [
       "<impedance.models.circuits.circuits.CustomCircuit at 0x7f72860c7100>"
      ]
     },
     "execution_count": 57,
     "metadata": {},
     "output_type": "execute_result"
    }
   ],
   "source": [
    "circuit_model.fit(frequencies, Z)"
   ]
  },
  {
   "cell_type": "code",
   "execution_count": null,
   "id": "418c7b5e",
   "metadata": {},
   "outputs": [
    {
     "data": {
      "text/plain": [
       "array([0.621793  , 0.12362864, 1.        , 8.60202753])"
      ]
     },
     "execution_count": 58,
     "metadata": {},
     "output_type": "execute_result"
    }
   ],
   "source": [
    "circuit_model.parameters_"
   ]
  },
  {
   "cell_type": "code",
   "execution_count": null,
   "id": "69e15a1e",
   "metadata": {},
   "outputs": [],
   "source": [
    "Z_fit = circuit_model.predict(frequencies)"
   ]
  },
  {
   "cell_type": "code",
   "execution_count": null,
   "id": "85f0dc58",
   "metadata": {},
   "outputs": [
    {
     "data": {
      "text/plain": [
       "array([0.621793  -2.02372870e-05j, 0.621793  -2.96467604e-05j,\n",
       "       0.621793  -4.34262462e-05j, 0.621793  -6.36161537e-05j,\n",
       "       0.62179301-2.93009225e-04j, 0.66442169-6.04049688e-01j,\n",
       "       0.81448042-1.27293916e+00j, 2.20980987-3.33741925e+00j,\n",
       "       3.43810981-4.03663156e+00j, 5.01721392-4.29997752e+00j])"
      ]
     },
     "execution_count": 60,
     "metadata": {},
     "output_type": "execute_result"
    }
   ],
   "source": [
    "Z_fit"
   ]
  },
  {
   "cell_type": "code",
   "execution_count": null,
   "id": "2dd1e37d",
   "metadata": {},
   "outputs": [
    {
     "data": {
      "image/png": "[encoded data removed]",
      "text/plain": [
       "<Figure size 640x480 with 1 Axes>"
      ]
     },
     "metadata": {},
     "output_type": "display_data"
    }
   ],
   "source": [
    "import matplotlib.pyplot as plt\n",
    "from impedance.visualization import plot_nyquist\n",
    "\n",
    "fig, ax = plt.subplots()\n",
    "plot_nyquist(Z, fmt='o', scale=1, ax=ax)\n",
    "plot_nyquist(Z_fit, fmt='-', scale=1, ax=ax)\n",
    "\n",
    "plt.legend(['Data', 'Fit'])\n",
    "plt.show()"
   ]
  }
 ],
 "metadata": {
  "kernelspec": {
   "display_name": "cholerny-impedant",
   "language": "python",
   "name": "python3"
  },
  "language_info": {
   "codemirror_mode": {
    "name": "ipython",
    "version": 3
   },
   "file_extension": ".py",
   "mimetype": "text/x-python",
   "name": "python",
   "nbconvert_exporter": "python",
   "pygments_lexer": "ipython3",
   "version": "3.13.7"
  }
 },
 "nbformat": 4,
 "nbformat_minor": 5
}
