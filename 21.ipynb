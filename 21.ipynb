{
 "cells": [
  {
   "cell_type": "code",
   "execution_count": 1,
   "id": "f8492f08",
   "metadata": {},
   "outputs": [],
   "source": [
    "from impedance import preprocessing\n",
    "import pandas as pd\n",
    "import os\n",
    "\n",
    "\n",
    "data_path = os.path.join(\"wyniki\", \"21.txt\")\n",
    "\n",
    "data = pd.read_csv(data_path, sep=\"\\t\")\n",
    "\n",
    "\n",
    "frequencies, Z = data.iloc[:,0], data.iloc[:,1] + 1j*data.iloc[:,2]\n",
    "\n",
    "# keep only the impedance data in the first quandrant\n",
    "frequencies, Z = preprocessing.ignoreBelowX(frequencies, Z)"
   ]
  },
  {
   "cell_type": "code",
   "execution_count": 2,
   "id": "c0cdde20",
   "metadata": {},
   "outputs": [
    {
     "data": {
      "application/vnd.microsoft.datawrangler.viewer.v0+json": {
       "columns": [
        {
         "name": "index",
         "rawType": "int64",
         "type": "integer"
        },
        {
         "name": "f",
         "rawType": "float64",
         "type": "float"
        },
        {
         "name": "Zre",
         "rawType": "float64",
         "type": "float"
        },
        {
         "name": "Zim",
         "rawType": "float64",
         "type": "float"
        }
       ],
       "ref": "626010cf-2afe-4c26-b72f-e5cdc5668c0f",
       "rows": [
        [
         "0",
         "0.7",
         "71.145",
         "-8.6882"
        ],
        [
         "1",
         "1.1",
         "71.145",
         "-8.6882"
        ],
        [
         "2",
         "1.7",
         "63.088",
         "-9.8575"
        ],
        [
         "3",
         "4.3",
         "56.368",
         "-15.745"
        ],
        [
         "4",
         "7.1",
         "43.076",
         "-19.653"
        ],
        [
         "5",
         "11.3",
         "35.114",
         "-20.569"
        ],
        [
         "6",
         "28.1",
         "18.222",
         "-17.46"
        ],
        [
         "7",
         "44.3",
         "12.707",
         "-14.227"
        ],
        [
         "8",
         "70.9",
         "9.3563",
         "-12.095"
        ],
        [
         "9",
         "112.3",
         "8.4831",
         "-8.7581"
        ],
        [
         "10",
         "177.7",
         "6.7283",
         "-6.155"
        ],
        [
         "11",
         "281.9",
         "5.4566",
         "-4.5608"
        ],
        [
         "12",
         "448.1",
         "4.4565",
         "-3.6023"
        ],
        [
         "13",
         "710.3",
         "3.9804",
         "-2.2621"
        ],
        [
         "14",
         "1127.3",
         "3.6818",
         "-1.8067"
        ],
        [
         "15",
         "1788.1",
         "3.3829",
         "-1.2891"
        ],
        [
         "16",
         "2835.1",
         "3.209",
         "-0.98932"
        ],
        [
         "17",
         "4500.7",
         "3.0335",
         "-0.67464"
        ]
       ],
       "shape": {
        "columns": 3,
        "rows": 18
       }
      },
      "text/html": [
       "<div>\n",
       "<style scoped>\n",
       "    .dataframe tbody tr th:only-of-type {\n",
       "        vertical-align: middle;\n",
       "    }\n",
       "\n",
       "    .dataframe tbody tr th {\n",
       "        vertical-align: top;\n",
       "    }\n",
       "\n",
       "    .dataframe thead th {\n",
       "        text-align: right;\n",
       "    }\n",
       "</style>\n",
       "<table border=\"1\" class=\"dataframe\">\n",
       "  <thead>\n",
       "    <tr style=\"text-align: right;\">\n",
       "      <th></th>\n",
       "      <th>f</th>\n",
       "      <th>Zre</th>\n",
       "      <th>Zim</th>\n",
       "    </tr>\n",
       "  </thead>\n",
       "  <tbody>\n",
       "    <tr>\n",
       "      <th>0</th>\n",
       "      <td>0.7</td>\n",
       "      <td>71.1450</td>\n",
       "      <td>-8.68820</td>\n",
       "    </tr>\n",
       "    <tr>\n",
       "      <th>1</th>\n",
       "      <td>1.1</td>\n",
       "      <td>71.1450</td>\n",
       "      <td>-8.68820</td>\n",
       "    </tr>\n",
       "    <tr>\n",
       "      <th>2</th>\n",
       "      <td>1.7</td>\n",
       "      <td>63.0880</td>\n",
       "      <td>-9.85750</td>\n",
       "    </tr>\n",
       "    <tr>\n",
       "      <th>3</th>\n",
       "      <td>4.3</td>\n",
       "      <td>56.3680</td>\n",
       "      <td>-15.74500</td>\n",
       "    </tr>\n",
       "    <tr>\n",
       "      <th>4</th>\n",
       "      <td>7.1</td>\n",
       "      <td>43.0760</td>\n",
       "      <td>-19.65300</td>\n",
       "    </tr>\n",
       "    <tr>\n",
       "      <th>5</th>\n",
       "      <td>11.3</td>\n",
       "      <td>35.1140</td>\n",
       "      <td>-20.56900</td>\n",
       "    </tr>\n",
       "    <tr>\n",
       "      <th>6</th>\n",
       "      <td>28.1</td>\n",
       "      <td>18.2220</td>\n",
       "      <td>-17.46000</td>\n",
       "    </tr>\n",
       "    <tr>\n",
       "      <th>7</th>\n",
       "      <td>44.3</td>\n",
       "      <td>12.7070</td>\n",
       "      <td>-14.22700</td>\n",
       "    </tr>\n",
       "    <tr>\n",
       "      <th>8</th>\n",
       "      <td>70.9</td>\n",
       "      <td>9.3563</td>\n",
       "      <td>-12.09500</td>\n",
       "    </tr>\n",
       "    <tr>\n",
       "      <th>9</th>\n",
       "      <td>112.3</td>\n",
       "      <td>8.4831</td>\n",
       "      <td>-8.75810</td>\n",
       "    </tr>\n",
       "    <tr>\n",
       "      <th>10</th>\n",
       "      <td>177.7</td>\n",
       "      <td>6.7283</td>\n",
       "      <td>-6.15500</td>\n",
       "    </tr>\n",
       "    <tr>\n",
       "      <th>11</th>\n",
       "      <td>281.9</td>\n",
       "      <td>5.4566</td>\n",
       "      <td>-4.56080</td>\n",
       "    </tr>\n",
       "    <tr>\n",
       "      <th>12</th>\n",
       "      <td>448.1</td>\n",
       "      <td>4.4565</td>\n",
       "      <td>-3.60230</td>\n",
       "    </tr>\n",
       "    <tr>\n",
       "      <th>13</th>\n",
       "      <td>710.3</td>\n",
       "      <td>3.9804</td>\n",
       "      <td>-2.26210</td>\n",
       "    </tr>\n",
       "    <tr>\n",
       "      <th>14</th>\n",
       "      <td>1127.3</td>\n",
       "      <td>3.6818</td>\n",
       "      <td>-1.80670</td>\n",
       "    </tr>\n",
       "    <tr>\n",
       "      <th>15</th>\n",
       "      <td>1788.1</td>\n",
       "      <td>3.3829</td>\n",
       "      <td>-1.28910</td>\n",
       "    </tr>\n",
       "    <tr>\n",
       "      <th>16</th>\n",
       "      <td>2835.1</td>\n",
       "      <td>3.2090</td>\n",
       "      <td>-0.98932</td>\n",
       "    </tr>\n",
       "    <tr>\n",
       "      <th>17</th>\n",
       "      <td>4500.7</td>\n",
       "      <td>3.0335</td>\n",
       "      <td>-0.67464</td>\n",
       "    </tr>\n",
       "  </tbody>\n",
       "</table>\n",
       "</div>"
      ],
      "text/plain": [
       "         f      Zre       Zim\n",
       "0      0.7  71.1450  -8.68820\n",
       "1      1.1  71.1450  -8.68820\n",
       "2      1.7  63.0880  -9.85750\n",
       "3      4.3  56.3680 -15.74500\n",
       "4      7.1  43.0760 -19.65300\n",
       "5     11.3  35.1140 -20.56900\n",
       "6     28.1  18.2220 -17.46000\n",
       "7     44.3  12.7070 -14.22700\n",
       "8     70.9   9.3563 -12.09500\n",
       "9    112.3   8.4831  -8.75810\n",
       "10   177.7   6.7283  -6.15500\n",
       "11   281.9   5.4566  -4.56080\n",
       "12   448.1   4.4565  -3.60230\n",
       "13   710.3   3.9804  -2.26210\n",
       "14  1127.3   3.6818  -1.80670\n",
       "15  1788.1   3.3829  -1.28910\n",
       "16  2835.1   3.2090  -0.98932\n",
       "17  4500.7   3.0335  -0.67464"
      ]
     },
     "execution_count": 2,
     "metadata": {},
     "output_type": "execute_result"
    }
   ],
   "source": [
    "data"
   ]
  },
  {
   "cell_type": "code",
   "execution_count": 3,
   "id": "f1b3342b",
   "metadata": {},
   "outputs": [],
   "source": [
    "from impedance.models.circuits import CustomCircuit\n",
    "\n",
    "circuit = 'R0-p(CPE1,R1)'\n",
    "initial_guess = [100, 1,1, 400]\n",
    "\n",
    "circuit = CustomCircuit(circuit, initial_guess=initial_guess)"
   ]
  },
  {
   "cell_type": "code",
   "execution_count": 9,
   "id": "cc6ff1e0",
   "metadata": {},
   "outputs": [
    {
     "name": "stderr",
     "output_type": "stream",
     "text": [
      "/home/kuba/Coding/cholerny-impedant/.venv/lib64/python3.13/site-packages/impedance/visualization.py:171: FutureWarning: The behavior of DataFrame concatenation with empty or all-NA entries is deprecated. In a future version, this will no longer exclude empty or all-NA columns when determining the result dtypes. To retain the old behavior, exclude the relevant entries before the concat operation.\n",
      "  Z_df = pd.concat([Z_df, df], ignore_index=True)\n"
     ]
    },
    {
     "data": {
      "text/html": [
       "\n",
       "<style>\n",
       "  #altair-viz-5a7f4a1a8a2549ca96a4338643958f13.vega-embed {\n",
       "    width: 100%;\n",
       "    display: flex;\n",
       "  }\n",
       "\n",
       "  #altair-viz-5a7f4a1a8a2549ca96a4338643958f13.vega-embed details,\n",
       "  #altair-viz-5a7f4a1a8a2549ca96a4338643958f13.vega-embed details summary {\n",
       "    position: relative;\n",
       "  }\n",
       "</style>\n",
       "<div id=\"altair-viz-5a7f4a1a8a2549ca96a4338643958f13\"></div>\n",
       "<script type=\"text/javascript\">\n",
       "  var VEGA_DEBUG = (typeof VEGA_DEBUG == \"undefined\") ? {} : VEGA_DEBUG;\n",
       "  (function(spec, embedOpt){\n",
       "    let outputDiv = document.currentScript.previousElementSibling;\n",
       "    if (outputDiv.id !== \"altair-viz-5a7f4a1a8a2549ca96a4338643958f13\") {\n",
       "      outputDiv = document.getElementById(\"altair-viz-5a7f4a1a8a2549ca96a4338643958f13\");\n",
       "    }\n",
       "\n",
       "    const paths = {\n",
       "      \"vega\": \"https://cdn.jsdelivr.net/npm/vega@5?noext\",\n",
       "      \"vega-lib\": \"https://cdn.jsdelivr.net/npm/vega-lib?noext\",\n",
       "      \"vega-lite\": \"https://cdn.jsdelivr.net/npm/vega-lite@5.20.1?noext\",\n",
       "      \"vega-embed\": \"https://cdn.jsdelivr.net/npm/vega-embed@6?noext\",\n",
       "    };\n",
       "\n",
       "    function maybeLoadScript(lib, version) {\n",
       "      var key = `${lib.replace(\"-\", \"\")}_version`;\n",
       "      return (VEGA_DEBUG[key] == version) ?\n",
       "        Promise.resolve(paths[lib]) :\n",
       "        new Promise(function(resolve, reject) {\n",
       "          var s = document.createElement('script');\n",
       "          document.getElementsByTagName(\"head\")[0].appendChild(s);\n",
       "          s.async = true;\n",
       "          s.onload = () => {\n",
       "            VEGA_DEBUG[key] = version;\n",
       "            return resolve(paths[lib]);\n",
       "          };\n",
       "          s.onerror = () => reject(`Error loading script: ${paths[lib]}`);\n",
       "          s.src = paths[lib];\n",
       "        });\n",
       "    }\n",
       "\n",
       "    function showError(err) {\n",
       "      outputDiv.innerHTML = `<div class=\"error\" style=\"color:red;\">${err}</div>`;\n",
       "      throw err;\n",
       "    }\n",
       "\n",
       "    function displayChart(vegaEmbed) {\n",
       "      vegaEmbed(outputDiv, spec, embedOpt)\n",
       "        .catch(err => showError(`Javascript Error: ${err.message}<br>This usually means there's a typo in your chart specification. See the javascript console for the full traceback.`));\n",
       "    }\n",
       "\n",
       "    if(typeof define === \"function\" && define.amd) {\n",
       "      requirejs.config({paths});\n",
       "      let deps = [\"vega-embed\"];\n",
       "      require(deps, displayChart, err => showError(`Error loading script: ${err.message}`));\n",
       "    } else {\n",
       "      maybeLoadScript(\"vega\", \"5\")\n",
       "        .then(() => maybeLoadScript(\"vega-lite\", \"5.20.1\"))\n",
       "        .then(() => maybeLoadScript(\"vega-embed\", \"6\"))\n",
       "        .catch(showError)\n",
       "        .then(() => displayChart(vegaEmbed));\n",
       "    }\n",
       "  })({\"config\": {\"view\": {\"continuousWidth\": 300, \"continuousHeight\": 300}, \"background\": \"#FFFFFF\"}, \"hconcat\": [{\"vconcat\": [{\"layer\": [{\"mark\": {\"type\": \"line\"}, \"encoding\": {\"color\": {\"field\": \"kind\", \"type\": \"nominal\"}, \"x\": {\"axis\": {\"title\": \"f [Hz]\"}, \"field\": \"f\", \"scale\": {\"nice\": false, \"type\": \"log\"}, \"type\": \"quantitative\"}, \"y\": {\"axis\": {\"title\": \"|Z| [\\u03a9]\"}, \"field\": \"mag\", \"type\": \"quantitative\"}}, \"transform\": [{\"calculate\": \"sqrt(pow(datum.z_real,2) + pow(datum.z_imag,2))\", \"as\": \"mag\"}, {\"calculate\": \"-(180/PI)*atan(datum.z_imag/datum.z_real)\", \"as\": \"neg_phase\"}]}], \"height\": 175.0, \"width\": 400}, {\"layer\": [{\"mark\": {\"type\": \"line\"}, \"encoding\": {\"color\": {\"field\": \"kind\", \"type\": \"nominal\"}, \"x\": {\"axis\": {\"title\": \"f [Hz]\"}, \"field\": \"f\", \"scale\": {\"nice\": false, \"type\": \"log\"}, \"type\": \"quantitative\"}, \"y\": {\"axis\": {\"title\": \"-\\u03d5 [\\u00b0]\"}, \"field\": \"neg_phase\", \"type\": \"quantitative\"}}, \"transform\": [{\"calculate\": \"sqrt(pow(datum.z_real,2) + pow(datum.z_imag,2))\", \"as\": \"mag\"}, {\"calculate\": \"-(180/PI)*atan(datum.z_imag/datum.z_real)\", \"as\": \"neg_phase\"}]}], \"height\": 175.0, \"width\": 400}]}, {\"layer\": [{\"mark\": {\"type\": \"line\"}, \"encoding\": {\"color\": {\"field\": \"kind\", \"type\": \"nominal\"}, \"x\": {\"axis\": {\"title\": \"Z' [\\u03a9]\"}, \"field\": \"z_real\", \"scale\": {\"domain\": [3.173429226985058, 72.49644935709198], \"nice\": false, \"padding\": 5}, \"type\": \"quantitative\"}, \"y\": {\"axis\": {\"title\": \"-Z'' [\\u03a9]\"}, \"field\": \"neg_z_imag\", \"scale\": {\"domain\": [0.0543526801123988, 69.37737281021931], \"nice\": false, \"padding\": 5}, \"type\": \"quantitative\"}}, \"transform\": [{\"calculate\": \"-datum.z_imag\", \"as\": \"neg_z_imag\"}]}], \"height\": 400, \"width\": 400}], \"data\": {\"name\": \"data-a8c9cdf8f81bf60c074901f2902d1830\"}, \"$schema\": \"https://vega.github.io/schema/vega-lite/v5.20.1.json\", \"datasets\": {\"data-a8c9cdf8f81bf60c074901f2902d1830\": [{\"f\": 100000.0, \"z_real\": 3.173429226985058, \"z_imag\": -0.056556530248404034, \"kind\": \"fit\", \"fmt\": \"-\"}, {\"f\": 68664.88450042998, \"z_real\": 3.18071334979432, \"z_imag\": -0.07543695057139548, \"kind\": \"fit\", \"fmt\": \"-\"}, {\"f\": 47148.663634573895, \"z_real\": 3.1904448163066976, \"z_imag\": -0.10061320767636218, \"kind\": \"fit\", \"fmt\": \"-\"}, {\"f\": 32374.575428176468, \"z_real\": 3.203451907498205, \"z_imag\": -0.13417917401787754, \"kind\": \"fit\", \"fmt\": \"-\"}, {\"f\": 22229.964825261955, \"z_real\": 3.2208478562550864, \"z_imag\": -0.17892076553099473, \"kind\": \"fit\", \"fmt\": \"-\"}, {\"f\": 15264.179671752334, \"z_real\": 3.2441323919676575, \"z_imag\": -0.2385412450563971, \"kind\": \"fit\", \"fmt\": \"-\"}, {\"f\": 10481.131341546852, \"z_real\": 3.2753320644020802, \"z_imag\": -0.3179571439438889, \"kind\": \"fit\", \"fmt\": \"-\"}, {\"f\": 7196.856730011521, \"z_real\": 3.3171959617508247, \"z_imag\": -0.4236847043188961, \"kind\": \"fit\", \"fmt\": \"-\"}, {\"f\": 4941.713361323838, \"z_real\": 3.373471669058244, \"z_imag\": -0.5643404377654089, \"kind\": \"fit\", \"fmt\": \"-\"}, {\"f\": 3393.2217718953298, \"z_real\": 3.449299146735548, \"z_imag\": -0.7512819199741884, \"kind\": \"fit\", \"fmt\": \"-\"}, {\"f\": 2329.951810515372, \"z_real\": 3.5517802991002627, \"z_imag\": -0.9994139134011735, \"kind\": \"fit\", \"fmt\": \"-\"}, {\"f\": 1599.858719606059, \"z_real\": 3.6908133128034564, \"z_imag\": -1.328175478251192, \"kind\": \"fit\", \"fmt\": \"-\"}, {\"f\": 1098.5411419875584, \"z_real\": 3.880328801371733, \"z_imag\": -1.762696351677492, \"kind\": \"fit\", \"fmt\": \"-\"}, {\"f\": 754.3120063354622, \"z_real\": 4.140135462997796, \"z_imag\": -2.3350473044368467, \"kind\": \"fit\", \"fmt\": \"-\"}, {\"f\": 517.9474679231213, \"z_real\": 4.498679122277405, \"z_imag\": -3.0853756768855147, \"kind\": \"fit\", \"fmt\": \"-\"}, {\"f\": 355.64803062231323, \"z_real\": 4.997127868575559, \"z_imag\": -4.062454458621917, \"kind\": \"fit\", \"fmt\": \"-\"}, {\"f\": 244.20530945486522, \"z_real\": 5.695256842208261, \"z_imag\": -5.322685882506003, \"kind\": \"fit\", \"fmt\": \"-\"}, {\"f\": 167.68329368110082, \"z_real\": 6.679436965406525, \"z_imag\": -6.925765482806136, \"kind\": \"fit\", \"fmt\": \"-\"}, {\"f\": 115.13953993264481, \"z_real\": 8.072190613512769, \"z_imag\": -8.92396780365919, \"kind\": \"fit\", \"fmt\": \"-\"}, {\"f\": 79.06043210907701, \"z_real\": 10.04039464127146, \"z_imag\": -11.340690930071506, \"kind\": \"fit\", \"fmt\": \"-\"}, {\"f\": 54.28675439323865, \"z_real\": 12.79412146865631, \"z_imag\": -14.134063085066058, \"kind\": \"fit\", \"fmt\": \"-\"}, {\"f\": 37.27593720314942, \"z_real\": 16.56038564115483, \"z_imag\": -17.147179167287092, \"kind\": \"fit\", \"fmt\": \"-\"}, {\"f\": 25.595479226995383, \"z_real\": 21.511742965543778, \"z_imag\": -20.064015613814252, \"kind\": \"fit\", \"fmt\": \"-\"}, {\"f\": 17.57510624854793, \"z_real\": 27.646397187497254, \"z_imag\": -22.417913943696437, \"kind\": \"fit\", \"fmt\": \"-\"}, {\"f\": 12.067926406393289, \"z_real\": 34.67149951875645, \"z_imag\": -23.707427424436034, \"kind\": \"fit\", \"fmt\": \"-\"}, {\"f\": 8.286427728546842, \"z_real\": 42.000429845186375, \"z_imag\": -23.60800025107434, \"kind\": \"fit\", \"fmt\": \"-\"}, {\"f\": 5.6898660290183045, \"z_real\": 48.93202734168914, \"z_imag\": -22.145944953350813, \"kind\": \"fit\", \"fmt\": \"-\"}, {\"f\": 3.906939937054621, \"z_real\": 54.91347166571233, \"z_imag\": -19.683380684871047, \"kind\": \"fit\", \"fmt\": \"-\"}, {\"f\": 2.6826957952797272, \"z_real\": 59.696058430430035, \"z_imag\": -16.728258785426174, \"kind\": \"fit\", \"fmt\": \"-\"}, {\"f\": 1.8420699693267164, \"z_real\": 63.3100557159484, \"z_imag\": -13.730536425017725, \"kind\": \"fit\", \"fmt\": \"-\"}, {\"f\": 1.2648552168552984, \"z_real\": 65.94178100211751, \"z_imag\": -10.98295419623135, \"kind\": \"fit\", \"fmt\": \"-\"}, {\"f\": 0.8685113737513538, \"z_real\": 67.81895450729024, \"z_imag\": -8.623435091241802, \"kind\": \"fit\", \"fmt\": \"-\"}, {\"f\": 0.5963623316594648, \"z_real\": 69.14647092907799, \"z_imag\": -6.682098194738322, \"kind\": \"fit\", \"fmt\": \"-\"}, {\"f\": 0.40949150623804276, \"z_real\": 70.08481793363835, \"z_imag\": -5.129762797825843, \"kind\": \"fit\", \"fmt\": \"-\"}, {\"f\": 0.28117686979742307, \"z_real\": 70.75095767674584, \"z_imag\": -3.9121482855653635, \"kind\": \"fit\", \"fmt\": \"-\"}, {\"f\": 0.19306977288832536, \"z_real\": 71.2270435725897, \"z_imag\": -2.969560893154982, \"kind\": \"fit\", \"fmt\": \"-\"}, {\"f\": 0.1325711365590111, \"z_real\": 71.56985637718465, \"z_imag\": -2.2464939678636844, \"kind\": \"fit\", \"fmt\": \"-\"}, {\"f\": 0.09102981779915227, \"z_real\": 71.81850438158689, \"z_imag\": -1.6953543818774126, \"kind\": \"fit\", \"fmt\": \"-\"}, {\"f\": 0.06250551925273976, \"z_real\": 72.00003369185872, \"z_imag\": -1.2771622349751204, \"kind\": \"fit\", \"fmt\": \"-\"}, {\"f\": 0.04291934260128787, \"z_real\": 72.13330241318572, \"z_imag\": -0.9608779065422588, \"kind\": \"fit\", \"fmt\": \"-\"}, {\"f\": 0.02947051702551816, \"z_real\": 72.23159151937516, \"z_imag\": -0.7222304066273124, \"kind\": \"fit\", \"fmt\": \"-\"}, {\"f\": 0.020235896477251596, \"z_real\": 72.30435076583632, \"z_imag\": -0.5424716025784243, \"kind\": \"fit\", \"fmt\": \"-\"}, {\"f\": 0.01389495494373139, \"z_real\": 72.35836891163612, \"z_imag\": -0.4072406890709605, \"kind\": \"fit\", \"fmt\": \"-\"}, {\"f\": 0.009540954763499945, \"z_real\": 72.39856467341585, \"z_imag\": -0.305602241201878, \"kind\": \"fit\", \"fmt\": \"-\"}, {\"f\": 0.006551285568595523, \"z_real\": 72.42852761102536, \"z_imag\": -0.22926417754028278, \"kind\": \"fit\", \"fmt\": \"-\"}, {\"f\": 0.004498432668969453, \"z_real\": 72.45089285161339, \"z_imag\": -0.1719578878826141, \"kind\": \"fit\", \"fmt\": \"-\"}, {\"f\": 0.003088843596477485, \"z_real\": 72.46760408816209, \"z_imag\": -0.12895493796177507, \"kind\": \"fit\", \"fmt\": \"-\"}, {\"f\": 0.0021209508879201926, \"z_real\": 72.48010040212392, \"z_imag\": -0.09669444125746614, \"kind\": \"fit\", \"fmt\": \"-\"}, {\"f\": 0.0014563484775012444, \"z_real\": 72.48945039383204, \"z_imag\": -0.07249797677533797, \"kind\": \"fit\", \"fmt\": \"-\"}, {\"f\": 0.001, \"z_real\": 72.49644935709198, \"z_imag\": -0.0543526801123988, \"kind\": \"fit\", \"fmt\": \"-\"}]}}, {\"mode\": \"vega-lite\"});\n",
       "</script>"
      ],
      "text/plain": [
       "alt.HConcatChart(...)"
      ]
     },
     "execution_count": 9,
     "metadata": {},
     "output_type": "execute_result"
    }
   ],
   "source": [
    "circuit.plot()"
   ]
  },
  {
   "cell_type": "code",
   "execution_count": 4,
   "id": "c6445ecf",
   "metadata": {},
   "outputs": [
    {
     "data": {
      "text/plain": [
       "<impedance.models.circuits.circuits.CustomCircuit at 0x7f5a8ab1f230>"
      ]
     },
     "execution_count": 4,
     "metadata": {},
     "output_type": "execute_result"
    }
   ],
   "source": [
    "circuit.fit(frequencies, Z)"
   ]
  },
  {
   "cell_type": "code",
   "execution_count": 5,
   "id": "418c7b5e",
   "metadata": {},
   "outputs": [
    {
     "data": {
      "text/plain": [
       "array([3.15168021e+00, 5.90702549e-04, 7.66803364e-01, 6.93656687e+01])"
      ]
     },
     "execution_count": 5,
     "metadata": {},
     "output_type": "execute_result"
    }
   ],
   "source": [
    "circuit.parameters_"
   ]
  },
  {
   "cell_type": "code",
   "execution_count": 6,
   "id": "69e15a1e",
   "metadata": {},
   "outputs": [],
   "source": [
    "Z_fit = circuit.predict(frequencies)"
   ]
  },
  {
   "cell_type": "code",
   "execution_count": 7,
   "id": "85f0dc58",
   "metadata": {},
   "outputs": [
    {
     "data": {
      "text/plain": [
       "array([68.63649848 -7.45940637j, 66.7153802 -10.05776206j,\n",
       "       63.94669753-13.11615184j, 53.49782518-20.37859849j,\n",
       "       44.93511295-23.15739013j, 35.95119001-23.79456261j,\n",
       "       20.16743245-19.37218186j, 14.69160512-15.75234636j,\n",
       "       10.7474361 -12.11572862j,  8.18297761 -9.07153477j,\n",
       "        6.5044399  -6.65368547j,  5.40031568 -4.8042589j ,\n",
       "        4.67139354 -3.43207796j,  4.18994922 -2.44192022j,\n",
       "        3.86531713 -1.72882274j,  3.64513497 -1.22113065j,\n",
       "        3.49443074 -0.8611835j ,  3.39026304 -0.60598928j])"
      ]
     },
     "execution_count": 7,
     "metadata": {},
     "output_type": "execute_result"
    }
   ],
   "source": [
    "Z_fit"
   ]
  },
  {
   "cell_type": "code",
   "execution_count": 8,
   "id": "2dd1e37d",
   "metadata": {},
   "outputs": [
    {
     "data": {
      "image/png": "[encoded data removed]",
      "text/plain": [
       "<Figure size 640x480 with 1 Axes>"
      ]
     },
     "metadata": {},
     "output_type": "display_data"
    }
   ],
   "source": [
    "import matplotlib.pyplot as plt\n",
    "from impedance.visualization import plot_nyquist\n",
    "\n",
    "fig, ax = plt.subplots()\n",
    "plot_nyquist(Z, fmt='o', scale=10, ax=ax)\n",
    "plot_nyquist(Z_fit, fmt='-', scale=10, ax=ax)\n",
    "\n",
    "plt.legend(['Data', 'Fit'])\n",
    "plt.show()"
   ]
  }
 ],
 "metadata": {
  "kernelspec": {
   "display_name": "cholerny-impedant",
   "language": "python",
   "name": "python3"
  },
  "language_info": {
   "codemirror_mode": {
    "name": "ipython",
    "version": 3
   },
   "file_extension": ".py",
   "mimetype": "text/x-python",
   "name": "python",
   "nbconvert_exporter": "python",
   "pygments_lexer": "ipython3",
   "version": "3.13.7"
  }
 },
 "nbformat": 4,
 "nbformat_minor": 5
}
