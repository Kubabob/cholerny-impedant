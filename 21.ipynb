{
 "cells": [
  {
   "cell_type": "code",
   "execution_count": 61,
   "id": "f8492f08",
   "metadata": {},
   "outputs": [],
   "source": [
    "from impedance import preprocessing\n",
    "import pandas as pd\n",
    "import os\n",
    "\n",
    "\n",
    "data_path = os.path.join(\"wyniki\", \"21.txt\")\n",
    "\n",
    "data = pd.read_csv(data_path, sep=\"\\t\")\n",
    "\n",
    "\n",
    "frequencies, Z = data.iloc[:,0], data.iloc[:,1] + 1j*data.iloc[:,2]\n",
    "\n",
    "# keep only the impedance data in the first quandrant\n",
    "frequencies, Z = preprocessing.ignoreBelowX(frequencies, Z)"
   ]
  },
  {
   "cell_type": "code",
   "execution_count": 62,
   "id": "c0cdde20",
   "metadata": {},
   "outputs": [
    {
     "data": {
      "application/vnd.microsoft.datawrangler.viewer.v0+json": {
       "columns": [
        {
         "name": "index",
         "rawType": "int64",
         "type": "integer"
        },
        {
         "name": "f",
         "rawType": "float64",
         "type": "float"
        },
        {
         "name": "Zre",
         "rawType": "float64",
         "type": "float"
        },
        {
         "name": "Zim",
         "rawType": "float64",
         "type": "float"
        }
       ],
       "ref": "7442811c-5a22-4c66-94e7-8b0e42acb37d",
       "rows": [
        [
         "0",
         "0.7",
         "71.145",
         "-8.6882"
        ],
        [
         "1",
         "1.1",
         "71.145",
         "-8.6882"
        ],
        [
         "2",
         "1.7",
         "63.088",
         "-9.8575"
        ],
        [
         "3",
         "4.3",
         "56.368",
         "-15.745"
        ],
        [
         "4",
         "7.1",
         "43.076",
         "-19.653"
        ],
        [
         "5",
         "11.3",
         "35.114",
         "-20.569"
        ],
        [
         "6",
         "28.1",
         "18.222",
         "-17.46"
        ],
        [
         "7",
         "44.3",
         "12.707",
         "-14.227"
        ],
        [
         "8",
         "70.9",
         "9.3563",
         "-12.095"
        ],
        [
         "9",
         "112.3",
         "8.4831",
         "-8.7581"
        ],
        [
         "10",
         "177.7",
         "6.7283",
         "-6.155"
        ],
        [
         "11",
         "281.9",
         "5.4566",
         "-4.5608"
        ],
        [
         "12",
         "448.1",
         "4.4565",
         "-3.6023"
        ],
        [
         "13",
         "710.3",
         "3.9804",
         "-2.2621"
        ],
        [
         "14",
         "1127.3",
         "3.6818",
         "-1.8067"
        ],
        [
         "15",
         "1788.1",
         "3.3829",
         "-1.2891"
        ],
        [
         "16",
         "2835.1",
         "3.209",
         "-0.98932"
        ],
        [
         "17",
         "4500.7",
         "3.0335",
         "-0.67464"
        ]
       ],
       "shape": {
        "columns": 3,
        "rows": 18
       }
      },
      "text/html": [
       "<div>\n",
       "<style scoped>\n",
       "    .dataframe tbody tr th:only-of-type {\n",
       "        vertical-align: middle;\n",
       "    }\n",
       "\n",
       "    .dataframe tbody tr th {\n",
       "        vertical-align: top;\n",
       "    }\n",
       "\n",
       "    .dataframe thead th {\n",
       "        text-align: right;\n",
       "    }\n",
       "</style>\n",
       "<table border=\"1\" class=\"dataframe\">\n",
       "  <thead>\n",
       "    <tr style=\"text-align: right;\">\n",
       "      <th></th>\n",
       "      <th>f</th>\n",
       "      <th>Zre</th>\n",
       "      <th>Zim</th>\n",
       "    </tr>\n",
       "  </thead>\n",
       "  <tbody>\n",
       "    <tr>\n",
       "      <th>0</th>\n",
       "      <td>0.7</td>\n",
       "      <td>71.1450</td>\n",
       "      <td>-8.68820</td>\n",
       "    </tr>\n",
       "    <tr>\n",
       "      <th>1</th>\n",
       "      <td>1.1</td>\n",
       "      <td>71.1450</td>\n",
       "      <td>-8.68820</td>\n",
       "    </tr>\n",
       "    <tr>\n",
       "      <th>2</th>\n",
       "      <td>1.7</td>\n",
       "      <td>63.0880</td>\n",
       "      <td>-9.85750</td>\n",
       "    </tr>\n",
       "    <tr>\n",
       "      <th>3</th>\n",
       "      <td>4.3</td>\n",
       "      <td>56.3680</td>\n",
       "      <td>-15.74500</td>\n",
       "    </tr>\n",
       "    <tr>\n",
       "      <th>4</th>\n",
       "      <td>7.1</td>\n",
       "      <td>43.0760</td>\n",
       "      <td>-19.65300</td>\n",
       "    </tr>\n",
       "    <tr>\n",
       "      <th>5</th>\n",
       "      <td>11.3</td>\n",
       "      <td>35.1140</td>\n",
       "      <td>-20.56900</td>\n",
       "    </tr>\n",
       "    <tr>\n",
       "      <th>6</th>\n",
       "      <td>28.1</td>\n",
       "      <td>18.2220</td>\n",
       "      <td>-17.46000</td>\n",
       "    </tr>\n",
       "    <tr>\n",
       "      <th>7</th>\n",
       "      <td>44.3</td>\n",
       "      <td>12.7070</td>\n",
       "      <td>-14.22700</td>\n",
       "    </tr>\n",
       "    <tr>\n",
       "      <th>8</th>\n",
       "      <td>70.9</td>\n",
       "      <td>9.3563</td>\n",
       "      <td>-12.09500</td>\n",
       "    </tr>\n",
       "    <tr>\n",
       "      <th>9</th>\n",
       "      <td>112.3</td>\n",
       "      <td>8.4831</td>\n",
       "      <td>-8.75810</td>\n",
       "    </tr>\n",
       "    <tr>\n",
       "      <th>10</th>\n",
       "      <td>177.7</td>\n",
       "      <td>6.7283</td>\n",
       "      <td>-6.15500</td>\n",
       "    </tr>\n",
       "    <tr>\n",
       "      <th>11</th>\n",
       "      <td>281.9</td>\n",
       "      <td>5.4566</td>\n",
       "      <td>-4.56080</td>\n",
       "    </tr>\n",
       "    <tr>\n",
       "      <th>12</th>\n",
       "      <td>448.1</td>\n",
       "      <td>4.4565</td>\n",
       "      <td>-3.60230</td>\n",
       "    </tr>\n",
       "    <tr>\n",
       "      <th>13</th>\n",
       "      <td>710.3</td>\n",
       "      <td>3.9804</td>\n",
       "      <td>-2.26210</td>\n",
       "    </tr>\n",
       "    <tr>\n",
       "      <th>14</th>\n",
       "      <td>1127.3</td>\n",
       "      <td>3.6818</td>\n",
       "      <td>-1.80670</td>\n",
       "    </tr>\n",
       "    <tr>\n",
       "      <th>15</th>\n",
       "      <td>1788.1</td>\n",
       "      <td>3.3829</td>\n",
       "      <td>-1.28910</td>\n",
       "    </tr>\n",
       "    <tr>\n",
       "      <th>16</th>\n",
       "      <td>2835.1</td>\n",
       "      <td>3.2090</td>\n",
       "      <td>-0.98932</td>\n",
       "    </tr>\n",
       "    <tr>\n",
       "      <th>17</th>\n",
       "      <td>4500.7</td>\n",
       "      <td>3.0335</td>\n",
       "      <td>-0.67464</td>\n",
       "    </tr>\n",
       "  </tbody>\n",
       "</table>\n",
       "</div>"
      ],
      "text/plain": [
       "         f      Zre       Zim\n",
       "0      0.7  71.1450  -8.68820\n",
       "1      1.1  71.1450  -8.68820\n",
       "2      1.7  63.0880  -9.85750\n",
       "3      4.3  56.3680 -15.74500\n",
       "4      7.1  43.0760 -19.65300\n",
       "5     11.3  35.1140 -20.56900\n",
       "6     28.1  18.2220 -17.46000\n",
       "7     44.3  12.7070 -14.22700\n",
       "8     70.9   9.3563 -12.09500\n",
       "9    112.3   8.4831  -8.75810\n",
       "10   177.7   6.7283  -6.15500\n",
       "11   281.9   5.4566  -4.56080\n",
       "12   448.1   4.4565  -3.60230\n",
       "13   710.3   3.9804  -2.26210\n",
       "14  1127.3   3.6818  -1.80670\n",
       "15  1788.1   3.3829  -1.28910\n",
       "16  2835.1   3.2090  -0.98932\n",
       "17  4500.7   3.0335  -0.67464"
      ]
     },
     "execution_count": 62,
     "metadata": {},
     "output_type": "execute_result"
    }
   ],
   "source": [
    "data"
   ]
  },
  {
   "cell_type": "code",
   "execution_count": 69,
   "id": "f1b3342b",
   "metadata": {},
   "outputs": [
    {
     "ename": "ValueError",
     "evalue": "Q not in allowed elements (dict_keys(['s', 'p', 'R', 'C', 'L', 'W', 'Wo', 'Ws', 'CPE', 'La', 'G', 'Gs', 'K', 'Zarc', 'TLMQ', 'T', '__builtins__']))",
     "output_type": "error",
     "traceback": [
      "\u001b[31m---------------------------------------------------------------------------\u001b[39m",
      "\u001b[31mValueError\u001b[39m                                Traceback (most recent call last)",
      "\u001b[36mCell\u001b[39m\u001b[36m \u001b[39m\u001b[32mIn[69]\u001b[39m\u001b[32m, line 6\u001b[39m\n\u001b[32m      3\u001b[39m circuit = \u001b[33m'\u001b[39m\u001b[33mR0-p(Q1,R1)\u001b[39m\u001b[33m'\u001b[39m\n\u001b[32m      4\u001b[39m initial_guess = [\u001b[32m100\u001b[39m, \u001b[32m.01\u001b[39m, \u001b[32m400\u001b[39m]\n\u001b[32m----> \u001b[39m\u001b[32m6\u001b[39m circuit = \u001b[43mCustomCircuit\u001b[49m\u001b[43m(\u001b[49m\u001b[43mcircuit\u001b[49m\u001b[43m,\u001b[49m\u001b[43m \u001b[49m\u001b[43minitial_guess\u001b[49m\u001b[43m=\u001b[49m\u001b[43minitial_guess\u001b[49m\u001b[43m)\u001b[49m\n",
      "\u001b[36mFile \u001b[39m\u001b[32m~/Coding/cholerny-impedant/.venv/lib64/python3.13/site-packages/impedance/models/circuits/circuits.py:436\u001b[39m, in \u001b[36mCustomCircuit.__init__\u001b[39m\u001b[34m(self, circuit, **kwargs)\u001b[39m\n\u001b[32m    433\u001b[39m \u001b[38;5;28msuper\u001b[39m().\u001b[34m__init__\u001b[39m(**kwargs)\n\u001b[32m    434\u001b[39m \u001b[38;5;28mself\u001b[39m.circuit = circuit.replace(\u001b[33m\"\u001b[39m\u001b[33m \u001b[39m\u001b[33m\"\u001b[39m, \u001b[33m\"\u001b[39m\u001b[33m\"\u001b[39m)\n\u001b[32m--> \u001b[39m\u001b[32m436\u001b[39m circuit_len = \u001b[43mcalculateCircuitLength\u001b[49m\u001b[43m(\u001b[49m\u001b[38;5;28;43mself\u001b[39;49m\u001b[43m.\u001b[49m\u001b[43mcircuit\u001b[49m\u001b[43m)\u001b[49m\n\u001b[32m    438\u001b[39m \u001b[38;5;28;01mif\u001b[39;00m \u001b[38;5;28mlen\u001b[39m(\u001b[38;5;28mself\u001b[39m.initial_guess) + \u001b[38;5;28mlen\u001b[39m(\u001b[38;5;28mself\u001b[39m.constants) != circuit_len:\n\u001b[32m    439\u001b[39m     \u001b[38;5;28;01mraise\u001b[39;00m \u001b[38;5;167;01mValueError\u001b[39;00m(\u001b[33m'\u001b[39m\u001b[33mThe number of initial guesses \u001b[39m\u001b[33m'\u001b[39m +\n\u001b[32m    440\u001b[39m                      \u001b[33mf\u001b[39m\u001b[33m'\u001b[39m\u001b[33m(\u001b[39m\u001b[38;5;132;01m{\u001b[39;00m\u001b[38;5;28mlen\u001b[39m(\u001b[38;5;28mself\u001b[39m.initial_guess)\u001b[38;5;132;01m}\u001b[39;00m\u001b[33m) + \u001b[39m\u001b[33m'\u001b[39m +\n\u001b[32m    441\u001b[39m                      \u001b[33m'\u001b[39m\u001b[33mthe number of constants \u001b[39m\u001b[33m'\u001b[39m +\n\u001b[32m    442\u001b[39m                      \u001b[33mf\u001b[39m\u001b[33m'\u001b[39m\u001b[33m(\u001b[39m\u001b[38;5;132;01m{\u001b[39;00m\u001b[38;5;28mlen\u001b[39m(\u001b[38;5;28mself\u001b[39m.constants)\u001b[38;5;132;01m}\u001b[39;00m\u001b[33m)\u001b[39m\u001b[33m'\u001b[39m +\n\u001b[32m    443\u001b[39m                      \u001b[33m'\u001b[39m\u001b[33m must be equal to \u001b[39m\u001b[33m'\u001b[39m +\n\u001b[32m    444\u001b[39m                      \u001b[33mf\u001b[39m\u001b[33m'\u001b[39m\u001b[33mthe circuit length (\u001b[39m\u001b[38;5;132;01m{\u001b[39;00mcircuit_len\u001b[38;5;132;01m}\u001b[39;00m\u001b[33m)\u001b[39m\u001b[33m'\u001b[39m)\n",
      "\u001b[36mFile \u001b[39m\u001b[32m~/Coding/cholerny-impedant/.venv/lib64/python3.13/site-packages/impedance/models/circuits/fitting.py:417\u001b[39m, in \u001b[36mcalculateCircuitLength\u001b[39m\u001b[34m(circuit)\u001b[39m\n\u001b[32m    415\u001b[39m     \u001b[38;5;28;01mfor\u001b[39;00m elem \u001b[38;5;129;01min\u001b[39;00m extracted_elements:\n\u001b[32m    416\u001b[39m         raw_element = get_element_from_name(elem)\n\u001b[32m--> \u001b[39m\u001b[32m417\u001b[39m         num_params = \u001b[43mcheck_and_eval\u001b[49m\u001b[43m(\u001b[49m\u001b[43mraw_element\u001b[49m\u001b[43m)\u001b[49m.num_params\n\u001b[32m    418\u001b[39m         length += num_params\n\u001b[32m    419\u001b[39m \u001b[38;5;28;01mreturn\u001b[39;00m length\n",
      "\u001b[36mFile \u001b[39m\u001b[32m~/Coding/cholerny-impedant/.venv/lib64/python3.13/site-packages/impedance/models/circuits/fitting.py:442\u001b[39m, in \u001b[36mcheck_and_eval\u001b[39m\u001b[34m(element)\u001b[39m\n\u001b[32m    440\u001b[39m allowed_elements = circuit_elements.keys()\n\u001b[32m    441\u001b[39m \u001b[38;5;28;01mif\u001b[39;00m element \u001b[38;5;129;01mnot\u001b[39;00m \u001b[38;5;129;01min\u001b[39;00m allowed_elements:\n\u001b[32m--> \u001b[39m\u001b[32m442\u001b[39m     \u001b[38;5;28;01mraise\u001b[39;00m \u001b[38;5;167;01mValueError\u001b[39;00m(\u001b[33mf\u001b[39m\u001b[33m'\u001b[39m\u001b[38;5;132;01m{\u001b[39;00melement\u001b[38;5;132;01m}\u001b[39;00m\u001b[33m not in \u001b[39m\u001b[33m'\u001b[39m +\n\u001b[32m    443\u001b[39m                      \u001b[33mf\u001b[39m\u001b[33m'\u001b[39m\u001b[33mallowed elements (\u001b[39m\u001b[38;5;132;01m{\u001b[39;00mallowed_elements\u001b[38;5;132;01m}\u001b[39;00m\u001b[33m)\u001b[39m\u001b[33m'\u001b[39m)\n\u001b[32m    444\u001b[39m \u001b[38;5;28;01melse\u001b[39;00m:\n\u001b[32m    445\u001b[39m     \u001b[38;5;28;01mreturn\u001b[39;00m \u001b[38;5;28meval\u001b[39m(element, circuit_elements)\n",
      "\u001b[31mValueError\u001b[39m: Q not in allowed elements (dict_keys(['s', 'p', 'R', 'C', 'L', 'W', 'Wo', 'Ws', 'CPE', 'La', 'G', 'Gs', 'K', 'Zarc', 'TLMQ', 'T', '__builtins__']))"
     ]
    }
   ],
   "source": [
    "from impedance.models.circuits import CustomCircuit\n",
    "\n",
    "circuit = 'R0-p(Q1,R1)'\n",
    "initial_guess = [100, .01, 400]\n",
    "\n",
    "circuit = CustomCircuit(circuit, initial_guess=initial_guess)"
   ]
  },
  {
   "cell_type": "code",
   "execution_count": 64,
   "id": "c6445ecf",
   "metadata": {},
   "outputs": [
    {
     "data": {
      "text/plain": [
       "<impedance.models.circuits.circuits.CustomCircuit at 0x7f89c8b92e50>"
      ]
     },
     "execution_count": 64,
     "metadata": {},
     "output_type": "execute_result"
    }
   ],
   "source": [
    "circuit.fit(frequencies, Z)"
   ]
  },
  {
   "cell_type": "code",
   "execution_count": 65,
   "id": "418c7b5e",
   "metadata": {},
   "outputs": [
    {
     "data": {
      "text/plain": [
       "array([4.77356761e+00, 1.16487422e-03, 3.18409406e+01, 1.85047135e-04,\n",
       "       3.27457127e+01])"
      ]
     },
     "execution_count": 65,
     "metadata": {},
     "output_type": "execute_result"
    }
   ],
   "source": [
    "circuit.parameters_"
   ]
  },
  {
   "cell_type": "code",
   "execution_count": 66,
   "id": "69e15a1e",
   "metadata": {},
   "outputs": [],
   "source": [
    "Z_fit = circuit.predict(frequencies)"
   ]
  },
  {
   "cell_type": "code",
   "execution_count": 67,
   "id": "85f0dc58",
   "metadata": {},
   "outputs": [
    {
     "data": {
      "text/plain": [
       "array([68.51157776 -5.93175875j, 67.3394402  -9.0281666j ,\n",
       "       64.90389894-13.01398109j, 52.55152497-21.14142434j,\n",
       "       43.80799593-22.34413574j, 36.41763025-22.45493486j,\n",
       "       20.76818597-21.08703353j, 13.58656949-17.42061372j,\n",
       "        8.84140937-12.58697396j,  6.51835461 -8.47639254j,\n",
       "        5.49222336 -5.50499877j,  5.06276673 -3.50930276j,\n",
       "        4.88860672 -2.21769449j,  4.81944363 -1.40155832j,\n",
       "        4.79179562 -0.88373784j,  4.78081486 -0.55730662j,\n",
       "        4.77645081 -0.35153334j,  4.77471173 -0.2214493j ])"
      ]
     },
     "execution_count": 67,
     "metadata": {},
     "output_type": "execute_result"
    }
   ],
   "source": [
    "Z_fit"
   ]
  },
  {
   "cell_type": "code",
   "execution_count": 68,
   "id": "2dd1e37d",
   "metadata": {},
   "outputs": [
    {
     "data": {
      "image/png": "[encoded data removed]",
      "text/plain": [
       "<Figure size 640x480 with 1 Axes>"
      ]
     },
     "metadata": {},
     "output_type": "display_data"
    }
   ],
   "source": [
    "import matplotlib.pyplot as plt\n",
    "from impedance.visualization import plot_nyquist\n",
    "\n",
    "fig, ax = plt.subplots()\n",
    "plot_nyquist(Z, fmt='o', scale=10, ax=ax)\n",
    "plot_nyquist(Z_fit, fmt='-', scale=10, ax=ax)\n",
    "\n",
    "plt.legend(['Data', 'Fit'])\n",
    "plt.show()"
   ]
  }
 ],
 "metadata": {
  "kernelspec": {
   "display_name": "cholerny-impedant",
   "language": "python",
   "name": "python3"
  },
  "language_info": {
   "codemirror_mode": {
    "name": "ipython",
    "version": 3
   },
   "file_extension": ".py",
   "mimetype": "text/x-python",
   "name": "python",
   "nbconvert_exporter": "python",
   "pygments_lexer": "ipython3",
   "version": "3.13.7"
  }
 },
 "nbformat": 4,
 "nbformat_minor": 5
}
