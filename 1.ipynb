{
 "cells": [
  {
   "cell_type": "code",
   "execution_count": 16,
   "id": "f8492f08",
   "metadata": {},
   "outputs": [],
   "source": [
    "from impedance import preprocessing\n",
    "import pandas as pd\n",
    "import os\n",
    "import numpy as np\n",
    "from CircuitModel import chi2, show_parameters\n",
    "import pandas as pd\n",
    "from IPython.display import display, HTML\n",
    "data_path = os.path.join(\"wyniki\", \"1.txt\")\n",
    "\n",
    "data = pd.read_csv(data_path, sep=\"\\t\", header=None)\n",
    "\n",
    "\n",
    "frequencies, Z = data.iloc[:,0,], data.iloc[:,1] - 1j*data.iloc[:,2]\n",
    "# frequencies, Z = data.iloc[:,0], data.iloc[:,1] + 1j*data.iloc[:,2]\n",
    "\n",
    "# keep only the impedance data in the first quandrant\n",
    "frequencies, Z = preprocessing.ignoreBelowX(frequencies, Z)"
   ]
  },
  {
   "cell_type": "code",
   "execution_count": 17,
   "id": "0b54048f",
   "metadata": {},
   "outputs": [
    {
     "data": {
      "application/vnd.microsoft.datawrangler.viewer.v0+json": {
       "columns": [
        {
         "name": "index",
         "rawType": "int64",
         "type": "integer"
        },
        {
         "name": "0",
         "rawType": "float64",
         "type": "float"
        }
       ],
       "ref": "b5d5f78a-3495-49c3-9ce6-1e0b6361344c",
       "rows": [
        [
         "0",
         "4501.4395"
        ],
        [
         "1",
         "3064.0215"
        ],
        [
         "2",
         "2085.6709"
        ],
        [
         "3",
         "1419.5442"
        ],
        [
         "4",
         "965.93054"
        ],
        [
         "5",
         "657.68512"
        ],
        [
         "6",
         "447.56531"
        ],
        [
         "7",
         "304.70715"
        ],
        [
         "8",
         "207.45621"
        ],
        [
         "9",
         "141.21979"
        ],
        [
         "10",
         "96.13857"
        ],
        [
         "11",
         "65.43979"
        ],
        [
         "12",
         "44.52974"
        ],
        [
         "13",
         "30.32021"
        ],
        [
         "14",
         "20.64072"
        ],
        [
         "15",
         "14.04285"
        ],
        [
         "16",
         "9.56245"
        ],
        [
         "17",
         "6.51041"
        ],
        [
         "18",
         "4.42886"
        ],
        [
         "19",
         "3.01408"
        ],
        [
         "20",
         "2.05214"
        ],
        [
         "21",
         "1.39759"
        ],
        [
         "22",
         "0.95072"
        ],
        [
         "23",
         "0.64737"
        ],
        [
         "24",
         "0.44079"
        ],
        [
         "25",
         "0.29994"
        ]
       ],
       "shape": {
        "columns": 1,
        "rows": 26
       }
      },
      "text/plain": [
       "0     4501.43950\n",
       "1     3064.02150\n",
       "2     2085.67090\n",
       "3     1419.54420\n",
       "4      965.93054\n",
       "5      657.68512\n",
       "6      447.56531\n",
       "7      304.70715\n",
       "8      207.45621\n",
       "9      141.21979\n",
       "10      96.13857\n",
       "11      65.43979\n",
       "12      44.52974\n",
       "13      30.32021\n",
       "14      20.64072\n",
       "15      14.04285\n",
       "16       9.56245\n",
       "17       6.51041\n",
       "18       4.42886\n",
       "19       3.01408\n",
       "20       2.05214\n",
       "21       1.39759\n",
       "22       0.95072\n",
       "23       0.64737\n",
       "24       0.44079\n",
       "25       0.29994\n",
       "Name: 0, dtype: float64"
      ]
     },
     "execution_count": 17,
     "metadata": {},
     "output_type": "execute_result"
    }
   ],
   "source": [
    "frequencies"
   ]
  },
  {
   "cell_type": "code",
   "execution_count": 18,
   "id": "f1b3342b",
   "metadata": {},
   "outputs": [],
   "source": [
    "from impedance.models.circuits import CustomCircuit\n",
    "\n",
    "circuit = 'R0-p(C1,R1)-p(C2,R2)'\n",
    "initial_guess = [100, .01, 100, .01, 900]\n",
    "\n",
    "circuit_model = CustomCircuit(circuit, initial_guess=initial_guess)"
   ]
  },
  {
   "cell_type": "code",
   "execution_count": 19,
   "id": "c6445ecf",
   "metadata": {},
   "outputs": [],
   "source": [
    "fitted_model = circuit_model.fit(frequencies, Z, method='trf')"
   ]
  },
  {
   "cell_type": "code",
   "execution_count": null,
   "id": "56b36738",
   "metadata": {},
   "outputs": [],
   "source": []
  },
  {
   "cell_type": "code",
   "execution_count": 44,
   "id": "418c7b5e",
   "metadata": {},
   "outputs": [
    {
     "name": "stdout",
     "output_type": "stream",
     "text": [
      "Circuit Parameters:\n",
      "====================\n",
      "R0    | 123.751\n",
      "C1    | 3.08903e-06\n",
      "R1    | 10715.8\n",
      "C2    | 9.53826e-07\n",
      "R2    | 419.062\n",
      "\n"
     ]
    }
   ],
   "source": [
    "circuit_model.parameters_\n",
    "show_parameters(circuit_model)"
   ]
  },
  {
   "cell_type": "code",
   "execution_count": 22,
   "id": "4da309d0",
   "metadata": {},
   "outputs": [
    {
     "data": {
      "text/plain": [
       "(['R0', 'C1', 'R1', 'C2', 'R2'], ['Ohm', 'F', 'Ohm', 'F', 'Ohm'])"
      ]
     },
     "execution_count": 22,
     "metadata": {},
     "output_type": "execute_result"
    }
   ],
   "source": [
    "circuit_model.get_param_names()"
   ]
  },
  {
   "cell_type": "code",
   "execution_count": 23,
   "id": "e492e839",
   "metadata": {},
   "outputs": [
    {
     "data": {
      "text/plain": [
       "array([1.23751345e+02, 3.08902920e-06, 1.07158359e+04, 9.53826389e-07,\n",
       "       4.19062437e+02])"
      ]
     },
     "execution_count": 23,
     "metadata": {},
     "output_type": "execute_result"
    }
   ],
   "source": [
    "circuit_model.parameters_"
   ]
  },
  {
   "cell_type": "code",
   "execution_count": 24,
   "id": "69e15a1e",
   "metadata": {},
   "outputs": [],
   "source": [
    "Z_fit = circuit_model.predict(frequencies)"
   ]
  },
  {
   "cell_type": "code",
   "execution_count": 25,
   "id": "84a49531",
   "metadata": {},
   "outputs": [
    {
     "data": {
      "application/vnd.microsoft.datawrangler.viewer.v0+json": {
       "columns": [
        {
         "name": "index",
         "rawType": "int64",
         "type": "integer"
        },
        {
         "name": "0",
         "rawType": "complex128",
         "type": "unknown"
        }
       ],
       "ref": "8d1907b4-68af-4e6a-b951-47ba66f3cd46",
       "rows": [
        [
         "0",
         "(124.56231-45.46629j)"
        ],
        [
         "1",
         "(128.95544-72.14854j)"
        ],
        [
         "2",
         "(130.50612-104.44491j)"
        ],
        [
         "3",
         "(155.01424-151.33224j)"
        ],
        [
         "4",
         "(185.35851-205.93224j)"
        ],
        [
         "5",
         "(232.11295-258.1351j)"
        ],
        [
         "6",
         "(310.30026-314.52304j)"
        ],
        [
         "7",
         "(387.84357-358.52518j)"
        ],
        [
         "8",
         "(452.32159-409.84595j)"
        ],
        [
         "9",
         "(499.78836-483.63559j)"
        ],
        [
         "10",
         "(539.25354-624.20563j)"
        ],
        [
         "11",
         "(582.05347-849.83502j)"
        ],
        [
         "12",
         "(644.48431-1182.1274j)"
        ],
        [
         "13",
         "(791.45233-1694.9391j)"
        ],
        [
         "14",
         "(1094.6826-2405.4399j)"
        ],
        [
         "15",
         "(1673.1499-3319.1816j)"
        ],
        [
         "16",
         "(2771.4441-4307.2632j)"
        ],
        [
         "17",
         "(4364.8237-5111.0474j)"
        ],
        [
         "18",
         "(6353.7686-5281.3062j)"
        ],
        [
         "19",
         "(8206.5205-4824.189j)"
        ],
        [
         "20",
         "(9570.8789-3895.2012j)"
        ],
        [
         "21",
         "(10400.958-2913.3826j)"
        ],
        [
         "22",
         "(10856.956-2077.4846j)"
        ],
        [
         "23",
         "(11065.465-1438.4141j)"
        ],
        [
         "24",
         "(11197.273-1015.2707j)"
        ],
        [
         "25",
         "(11226.754-687.89911j)"
        ]
       ],
       "shape": {
        "columns": 1,
        "rows": 26
       }
      },
      "text/plain": [
       "0       124.56231-   45.46629j\n",
       "1       128.95544-   72.14854j\n",
       "2       130.50612-  104.44491j\n",
       "3       155.01424-  151.33224j\n",
       "4       185.35851-  205.93224j\n",
       "5       232.11295-  258.13510j\n",
       "6       310.30026-  314.52304j\n",
       "7       387.84357-  358.52518j\n",
       "8       452.32159-  409.84595j\n",
       "9       499.78836-  483.63559j\n",
       "10      539.25354-  624.20563j\n",
       "11      582.05347-  849.83502j\n",
       "12      644.48431- 1182.12740j\n",
       "13      791.45233- 1694.93910j\n",
       "14     1094.68260- 2405.43990j\n",
       "15     1673.14990- 3319.18160j\n",
       "16     2771.44410- 4307.26320j\n",
       "17     4364.82370- 5111.04740j\n",
       "18     6353.76860- 5281.30620j\n",
       "19     8206.52050- 4824.18900j\n",
       "20     9570.87890- 3895.20120j\n",
       "21    10400.95800- 2913.38260j\n",
       "22    10856.95600- 2077.48460j\n",
       "23    11065.46500- 1438.41410j\n",
       "24    11197.27300- 1015.27070j\n",
       "25    11226.75400-  687.89911j\n",
       "dtype: complex128"
      ]
     },
     "execution_count": 25,
     "metadata": {},
     "output_type": "execute_result"
    }
   ],
   "source": [
    "Z"
   ]
  },
  {
   "cell_type": "code",
   "execution_count": 26,
   "id": "85f0dc58",
   "metadata": {},
   "outputs": [
    {
     "data": {
      "text/plain": [
       "array([  127.01695344  -48.22604382j,   130.73704511  -70.36861463j,\n",
       "         138.54445899 -101.89252127j,   154.43993282 -145.26569196j,\n",
       "         184.88270673 -200.99339074j,   236.72447152 -263.99332834j,\n",
       "         310.12857507 -323.21109362j,   390.70693825 -371.2968274j ,\n",
       "         459.09525961 -419.94448834j,   508.39707131 -496.43918977j,\n",
       "         546.46479757 -630.19200608j,   589.32934857 -850.16303769j,\n",
       "         661.12844687-1189.99194684j,   803.25497596-1689.32763568j,\n",
       "        1093.22433028-2389.35510534j,  1666.68485267-3298.74354986j,\n",
       "        2705.01334222-4310.78064504j,  4324.58617001-5127.72924291j,\n",
       "        6339.87992953-5344.54714008j,  8235.55697969-4825.59501108j,\n",
       "        9607.37250881-3871.01178395j, 10423.78160902-2873.62297118j,\n",
       "       10855.43806772-2040.15382063j, 11067.84585764-1417.79268784j,\n",
       "       11169.33698573 -974.67010334j, 11217.10966204 -666.20425833j])"
      ]
     },
     "execution_count": 26,
     "metadata": {},
     "output_type": "execute_result"
    }
   ],
   "source": [
    "Z_fit"
   ]
  },
  {
   "cell_type": "code",
   "execution_count": 27,
   "id": "1744ba18",
   "metadata": {},
   "outputs": [
    {
     "name": "stdout",
     "output_type": "stream",
     "text": [
      "Chi-squared value: 22410.23\n"
     ]
    }
   ],
   "source": [
    "# Calculate chi-squared for our current fit\n",
    "chi2_value = chi2(Z, Z_fit)\n",
    "print(f\"Chi-squared value: {chi2_value:.2f}\")"
   ]
  },
  {
   "cell_type": "code",
   "execution_count": 28,
   "id": "2dd1e37d",
   "metadata": {},
   "outputs": [
    {
     "data": {
      "image/png": "[encoded data removed]",
      "text/plain": [
       "<Figure size 640x480 with 1 Axes>"
      ]
     },
     "metadata": {},
     "output_type": "display_data"
    }
   ],
   "source": [
    "import matplotlib.pyplot as plt\n",
    "from impedance.visualization import plot_nyquist\n",
    "\n",
    "fig, ax = plt.subplots()\n",
    "plot_nyquist(Z, fmt='o', scale=1, ax=ax)\n",
    "plot_nyquist(Z_fit, fmt='-', scale=1, ax=ax)\n",
    "\n",
    "plt.legend(['Data', 'Fit'])\n",
    "plt.show()"
   ]
  }
 ],
 "metadata": {
  "kernelspec": {
   "display_name": "cholerny-impedant",
   "language": "python",
   "name": "python3"
  },
  "language_info": {
   "codemirror_mode": {
    "name": "ipython",
    "version": 3
   },
   "file_extension": ".py",
   "mimetype": "text/x-python",
   "name": "python",
   "nbconvert_exporter": "python",
   "pygments_lexer": "ipython3",
   "version": "3.13.7"
  }
 },
 "nbformat": 4,
 "nbformat_minor": 5
}
